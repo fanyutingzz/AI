{
  "nbformat": 4,
  "nbformat_minor": 0,
  "metadata": {
    "colab": {
      "name": "5.keras_CNN_Cifar10.ipynb",
      "provenance": [],
      "collapsed_sections": []
    },
    "kernelspec": {
      "name": "python3",
      "display_name": "Python 3"
    },
    "language_info": {
      "name": "python"
    },
    "accelerator": "GPU"
  },
  "cells": [
    {
      "cell_type": "code",
      "execution_count": null,
      "metadata": {
        "colab": {
          "base_uri": "https://localhost:8080/"
        },
        "id": "egReeP2QwOpu",
        "outputId": "55b134b1-7551-4f74-857c-1a07f56241a9"
      },
      "outputs": [
        {
          "output_type": "stream",
          "name": "stdout",
          "text": [
            "Model: \"sequential\"\n",
            "_________________________________________________________________\n",
            " Layer (type)                Output Shape              Param #   \n",
            "=================================================================\n",
            " conv2d (Conv2D)             (None, 28, 28, 64)        4864      \n",
            "                                                                 \n",
            " conv2d_1 (Conv2D)           (None, 24, 24, 64)        102464    \n",
            "                                                                 \n",
            " max_pooling2d (MaxPooling2D  (None, 12, 12, 64)       0         \n",
            " )                                                               \n",
            "                                                                 \n",
            " conv2d_2 (Conv2D)           (None, 8, 8, 128)         204928    \n",
            "                                                                 \n",
            " conv2d_3 (Conv2D)           (None, 4, 4, 128)         409728    \n",
            "                                                                 \n",
            " max_pooling2d_1 (MaxPooling  (None, 2, 2, 128)        0         \n",
            " 2D)                                                             \n",
            "                                                                 \n",
            " flatten (Flatten)           (None, 512)               0         \n",
            "                                                                 \n",
            " dense (Dense)               (None, 10)                5130      \n",
            "                                                                 \n",
            "=================================================================\n",
            "Total params: 727,114\n",
            "Trainable params: 727,114\n",
            "Non-trainable params: 0\n",
            "_________________________________________________________________\n"
          ]
        }
      ],
      "source": [
        "from tensorflow import keras\n",
        "from keras.models import Sequential\n",
        "from keras.layers import Dense, Conv2D, MaxPooling2D, Flatten\n",
        "model=Sequential()\n",
        "model.add(Conv2D(filters=64, kernel_size=(5, 5), input_shape=(32, 32, 3), activation='relu'))\n",
        "model.add(Conv2D(filters=64, kernel_size=(5, 5), activation='relu'))\n",
        "model.add(MaxPooling2D(pool_size=2))\n",
        "model.add(Conv2D(filters=128, kernel_size=(5, 5), activation='relu'))\n",
        "model.add(Conv2D(filters=128, kernel_size=(5, 5), activation='relu'))\n",
        "model.add(MaxPooling2D(pool_size=2))\n",
        "model.add(Flatten())\n",
        "model.add(Dense(10, activation='softmax'))\n",
        "model.summary()\n",
        "model.compile(optimizer='rmsprop', loss='categorical_crossentropy', metrics=['accuracy'])"
      ]
    },
    {
      "cell_type": "code",
      "source": [
        "cifar10=keras.datasets.cifar10\n",
        "(train_data, train_label), (test_data, test_label) = cifar10.load_data()\n",
        "train_label_original=train_label\n",
        "train_label = keras.utils.to_categorical(train_label)\n",
        "test_label = keras.utils.to_categorical(test_label)"
      ],
      "metadata": {
        "colab": {
          "base_uri": "https://localhost:8080/"
        },
        "id": "tBwewWV8wRtQ",
        "outputId": "b7670c1c-ab76-49ea-e0c6-af25be942cd0"
      },
      "execution_count": null,
      "outputs": [
        {
          "output_type": "stream",
          "name": "stdout",
          "text": [
            "Downloading data from https://www.cs.toronto.edu/~kriz/cifar-10-python.tar.gz\n",
            "170500096/170498071 [==============================] - 2s 0us/step\n",
            "170508288/170498071 [==============================] - 2s 0us/step\n"
          ]
        }
      ]
    },
    {
      "cell_type": "code",
      "source": [
        "import matplotlib.pyplot as plt\n",
        "category=['airplane','automobile','bird','cat','deer','dog','frog','horse','ship','truck']\n",
        "plt.imshow(train_data[0])\n",
        "plt.title(category[int(train_label_original[0])])\n",
        "plt.show()\n",
        "print(train_label_original[0])"
      ],
      "metadata": {
        "colab": {
          "base_uri": "https://localhost:8080/",
          "height": 299
        },
        "id": "GVRh3NVRwVVE",
        "outputId": "58993e1c-e0f1-4412-9801-da43d16e908d"
      },
      "execution_count": null,
      "outputs": [
        {
          "output_type": "display_data",
          "data": {
            "text/plain": [
              "<Figure size 432x288 with 1 Axes>"
            ],
            "image/png": "[encoded data removed]"
          },
          "metadata": {
            "needs_background": "light"
          }
        },
        {
          "output_type": "stream",
          "name": "stdout",
          "text": [
            "[6]\n"
          ]
        }
      ]
    },
    {
      "cell_type": "code",
      "source": [
        "train_history=model.fit(train_data,train_label,epochs=30,batch_size=512)"
      ],
      "metadata": {
        "colab": {
          "base_uri": "https://localhost:8080/"
        },
        "id": "4jxZOJT2wVQJ",
        "outputId": "26f55bb0-cfe8-4619-b4e0-2e7642a40e75"
      },
      "execution_count": null,
      "outputs": [
        {
          "output_type": "stream",
          "name": "stdout",
          "text": [
            "Epoch 1/30\n",
            "98/98 [==============================] - 19s 53ms/step - loss: 9.6240 - accuracy: 0.2190\n",
            "Epoch 2/30\n",
            "98/98 [==============================] - 4s 46ms/step - loss: 2.1368 - accuracy: 0.2923\n",
            "Epoch 3/30\n",
            "98/98 [==============================] - 4s 46ms/step - loss: 1.8840 - accuracy: 0.3650\n",
            "Epoch 4/30\n",
            "98/98 [==============================] - 5s 48ms/step - loss: 1.6792 - accuracy: 0.4211\n",
            "Epoch 5/30\n",
            "98/98 [==============================] - 5s 46ms/step - loss: 1.4999 - accuracy: 0.4845\n",
            "Epoch 6/30\n",
            "98/98 [==============================] - 5s 47ms/step - loss: 1.3624 - accuracy: 0.5344\n",
            "Epoch 7/30\n",
            "98/98 [==============================] - 5s 47ms/step - loss: 1.1919 - accuracy: 0.5916\n",
            "Epoch 8/30\n",
            "98/98 [==============================] - 5s 49ms/step - loss: 1.1298 - accuracy: 0.6205\n",
            "Epoch 9/30\n",
            "98/98 [==============================] - 5s 47ms/step - loss: 0.9931 - accuracy: 0.6644\n",
            "Epoch 10/30\n",
            "98/98 [==============================] - 5s 48ms/step - loss: 0.8609 - accuracy: 0.7072\n",
            "Epoch 11/30\n",
            "98/98 [==============================] - 5s 48ms/step - loss: 0.7351 - accuracy: 0.7516\n",
            "Epoch 12/30\n",
            "98/98 [==============================] - 5s 48ms/step - loss: 0.6185 - accuracy: 0.7909\n",
            "Epoch 13/30\n",
            "98/98 [==============================] - 5s 48ms/step - loss: 0.5740 - accuracy: 0.8095\n",
            "Epoch 14/30\n",
            "98/98 [==============================] - 5s 48ms/step - loss: 0.4620 - accuracy: 0.8442\n",
            "Epoch 15/30\n",
            "98/98 [==============================] - 5s 48ms/step - loss: 0.3938 - accuracy: 0.8670\n",
            "Epoch 16/30\n",
            "98/98 [==============================] - 5s 48ms/step - loss: 0.3702 - accuracy: 0.8780\n",
            "Epoch 17/30\n",
            "98/98 [==============================] - 5s 48ms/step - loss: 0.3085 - accuracy: 0.8973\n",
            "Epoch 18/30\n",
            "98/98 [==============================] - 5s 48ms/step - loss: 0.2874 - accuracy: 0.9090\n",
            "Epoch 19/30\n",
            "98/98 [==============================] - 5s 48ms/step - loss: 0.2527 - accuracy: 0.9189\n",
            "Epoch 20/30\n",
            "98/98 [==============================] - 5s 47ms/step - loss: 0.2453 - accuracy: 0.9237\n",
            "Epoch 21/30\n",
            "98/98 [==============================] - 5s 47ms/step - loss: 0.2370 - accuracy: 0.9272\n",
            "Epoch 22/30\n",
            "98/98 [==============================] - 5s 47ms/step - loss: 0.2288 - accuracy: 0.9318\n",
            "Epoch 23/30\n",
            "98/98 [==============================] - 5s 47ms/step - loss: 0.2122 - accuracy: 0.9372\n",
            "Epoch 24/30\n",
            "98/98 [==============================] - 5s 47ms/step - loss: 0.2210 - accuracy: 0.9385\n",
            "Epoch 25/30\n",
            "98/98 [==============================] - 5s 47ms/step - loss: 0.1985 - accuracy: 0.9431\n",
            "Epoch 26/30\n",
            "98/98 [==============================] - 5s 47ms/step - loss: 0.2198 - accuracy: 0.9400\n",
            "Epoch 27/30\n",
            "98/98 [==============================] - 5s 47ms/step - loss: 0.1748 - accuracy: 0.9495\n",
            "Epoch 28/30\n",
            "98/98 [==============================] - 5s 48ms/step - loss: 0.1826 - accuracy: 0.9488\n",
            "Epoch 29/30\n",
            "98/98 [==============================] - 5s 48ms/step - loss: 0.2042 - accuracy: 0.9457\n",
            "Epoch 30/30\n",
            "98/98 [==============================] - 5s 48ms/step - loss: 0.1716 - accuracy: 0.9537\n"
          ]
        }
      ]
    },
    {
      "cell_type": "code",
      "source": [
        "score=model.evaluate(test_data, test_label)\n",
        "print(score[1])"
      ],
      "metadata": {
        "colab": {
          "base_uri": "https://localhost:8080/"
        },
        "id": "xCHkpGHVwacD",
        "outputId": "4c602a4c-4d18-4b65-8a3b-c2c4c03cc1cc"
      },
      "execution_count": null,
      "outputs": [
        {
          "output_type": "stream",
          "name": "stdout",
          "text": [
            "313/313 [==============================] - 2s 4ms/step - loss: 3.8820 - accuracy: 0.6089\n",
            "0.6089000105857849\n"
          ]
        }
      ]
    },
    {
      "cell_type": "code",
      "source": [
        "#繪製正確性與損失歷史圖\n",
        "import matplotlib.pyplot as plt\n",
        "import numpy as np\n",
        "\n",
        "def show_train_history(train_history, train):\n",
        "    plt.plot(train_history.history[train])\n",
        "    plt.title('Train History')\n",
        "    plt.ylabel(train)\n",
        "    plt.xlabel('Epoch')\n",
        "    plt.legend(['train'], loc='center right')\n",
        "    plt.show()\n",
        "\n",
        "show_train_history(train_history, 'accuracy')\n",
        "show_train_history(train_history, 'loss')"
      ],
      "metadata": {
        "colab": {
          "base_uri": "https://localhost:8080/",
          "height": 573
        },
        "id": "Xr0Ik7D9wdk9",
        "outputId": "0b0dc8f4-04e0-45ba-c021-b55b9b6c2adb"
      },
      "execution_count": null,
      "outputs": [
        {
          "output_type": "display_data",
          "data": {
            "text/plain": [
              "<Figure size 432x288 with 1 Axes>"
            ],
            "image/png": "[encoded data removed]"
          },
          "metadata": {
            "needs_background": "light"
          }
        },
        {
          "output_type": "display_data",
          "data": {
            "text/plain": [
              "<Figure size 432x288 with 1 Axes>"
            ],
            "image/png": "[encoded data removed]"
          },
          "metadata": {
            "needs_background": "light"
          }
        }
      ]
    }
  ]
}